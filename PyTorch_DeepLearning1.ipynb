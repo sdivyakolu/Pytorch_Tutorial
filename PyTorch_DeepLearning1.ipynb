{
  "nbformat": 4,
  "nbformat_minor": 0,
  "metadata": {
    "colab": {
      "provenance": [],
      "gpuType": "T4",
      "authorship_tag": "ABX9TyOR2EnaeCrQAeC65hPdoONY",
      "include_colab_link": true
    },
    "kernelspec": {
      "name": "python3",
      "display_name": "Python 3"
    },
    "language_info": {
      "name": "python"
    },
    "accelerator": "GPU"
  },
  "cells": [
    {
      "cell_type": "markdown",
      "metadata": {
        "id": "view-in-github",
        "colab_type": "text"
      },
      "source": [
        "<a href=\"https://colab.research.google.com/github/sdivyakolu/Pytorch_Tutorial/blob/main/PyTorch_DeepLearning1.ipynb\" target=\"_parent\"><img src=\"https://colab.research.google.com/assets/colab-badge.svg\" alt=\"Open In Colab\"/></a>"
      ]
    },
    {
      "cell_type": "code",
      "execution_count": null,
      "metadata": {
        "id": "YTk99W3A97uQ"
      },
      "outputs": [],
      "source": [
        "show_expected_result=True\n",
        "show_hints=True\n",
        "\n",
        "def find_latest(numbers):\n",
        "  return max(numbers)\n"
      ]
    },
    {
      "cell_type": "code",
      "source": [
        "my_numbers=[4,-5,8,10,34]\n",
        "result=find_latest(my_numbers)\n",
        "result"
      ],
      "metadata": {
        "colab": {
          "base_uri": "https://localhost:8080/"
        },
        "id": "qYOYcEa2F5wR",
        "outputId": "9001f024-e263-4cd5-8f95-6245dbd80aaa"
      },
      "execution_count": null,
      "outputs": [
        {
          "output_type": "execute_result",
          "data": {
            "text/plain": [
              "34"
            ]
          },
          "metadata": {},
          "execution_count": 2
        }
      ]
    },
    {
      "cell_type": "code",
      "source": [
        "import torch\n",
        "\n",
        "print(torch.__version__)\n",
        "print(torch.cuda.is_available())\n",
        "\n"
      ],
      "metadata": {
        "colab": {
          "base_uri": "https://localhost:8080/"
        },
        "id": "nBIfv2IVF5tD",
        "outputId": "6df85b34-4820-459f-f1a7-61e38efdbf1e"
      },
      "execution_count": null,
      "outputs": [
        {
          "output_type": "stream",
          "name": "stdout",
          "text": [
            "2.6.0+cu124\n",
            "True\n"
          ]
        }
      ]
    },
    {
      "cell_type": "code",
      "source": [
        "import torch\n",
        "\n",
        "first_tensor=torch.tensor([[1,2,3,4],[5,6,7,8]])\n",
        "second_tensor=torch.tensor([[11,12,13,14],[15,16,17,18]])\n",
        "third_tensor=first_tensor+second_tensor\n",
        "print(third_tensor)\n",
        "print('Result Tensor Size:',third_tensor.size())\n",
        "\n",
        "#Subtract tensor\n",
        "\n",
        "subtract_tensor=first_tensor-second_tensor\n",
        "print(subtract_tensor)\n",
        "print('Subtract Result Tensor Size:',subtract_tensor.size())\n",
        "\n",
        "#Multiply tensor\n",
        "\n",
        "multiply_tensor=first_tensor*second_tensor\n",
        "print(multiply_tensor)\n",
        "print('Multiply Result Tensor Size:',multiply_tensor.size())"
      ],
      "metadata": {
        "colab": {
          "base_uri": "https://localhost:8080/"
        },
        "id": "EWnhoJPjJ8Cb",
        "outputId": "bfac6586-0b88-4752-f014-d4be6d30b9a1"
      },
      "execution_count": null,
      "outputs": [
        {
          "output_type": "stream",
          "name": "stdout",
          "text": [
            "tensor([[12, 14, 16, 18],\n",
            "        [20, 22, 24, 26]])\n",
            "Result Tensor Size: torch.Size([2, 4])\n",
            "tensor([[-10, -10, -10, -10],\n",
            "        [-10, -10, -10, -10]])\n",
            "Subtract Result Tensor Size: torch.Size([2, 4])\n",
            "tensor([[ 11,  24,  39,  56],\n",
            "        [ 75,  96, 119, 144]])\n",
            "Multiply Result Tensor Size: torch.Size([2, 4])\n"
          ]
        }
      ]
    },
    {
      "cell_type": "code",
      "source": [
        "import torch\n",
        "\n",
        "print('Torch Version:' ,torch.__version__)\n",
        "print('CUDA available:',torch.cuda.is_available())\n",
        "\n",
        "if ( torch.cuda.is_available()): device=torch.device('cuda') #it will switch runtime to GPU\n",
        "else : device=torch.device('cpu')\n",
        "\n",
        "print('device:',device)\n"
      ],
      "metadata": {
        "colab": {
          "base_uri": "https://localhost:8080/"
        },
        "id": "kvZAx3ODJ7-f",
        "outputId": "d4df6141-edf0-4239-ba28-6612f661665a"
      },
      "execution_count": null,
      "outputs": [
        {
          "output_type": "stream",
          "name": "stdout",
          "text": [
            "Torch Version: 2.6.0+cu124\n",
            "CUDA available: True\n",
            "device: cuda\n"
          ]
        }
      ]
    },
    {
      "cell_type": "code",
      "source": [
        "first_tensor=torch.tensor([[1,2,3,4],[5,6,7,8]],device=device)\n",
        "second_tensor=torch.tensor([[11,12,13,14],[15,16,17,18]],device=device)\n",
        "\n",
        "multiply_tensor=first_tensor*second_tensor\n",
        "multiply_tensor"
      ],
      "metadata": {
        "colab": {
          "base_uri": "https://localhost:8080/"
        },
        "id": "duFeULdiJ77v",
        "outputId": "9c3ff8d3-4153-4a4a-e336-ced853287503"
      },
      "execution_count": null,
      "outputs": [
        {
          "output_type": "execute_result",
          "data": {
            "text/plain": [
              "tensor([[ 11,  24,  39,  56],\n",
              "        [ 75,  96, 119, 144]], device='cuda:0')"
            ]
          },
          "metadata": {},
          "execution_count": 16
        }
      ]
    },
    {
      "cell_type": "code",
      "source": [
        "import torch\n",
        "import numpy as np\n",
        "\n",
        "first_tensor=torch.tensor([1,2,3,4,5])\n",
        "tuple_tensor=torch.tensor((5,6,7,8,9,0))\n",
        "\n",
        "print('First Tensor:',first_tensor)\n",
        "print('Tuble Tensor:',tuple_tensor)\n",
        "\n",
        "#Initilizse tensor from numpyarray( nd_array)\n",
        "\n",
        "tensor_from_array=torch.tensor(np.array([11,12,13,14,15]))\n",
        "\n",
        "tensor_from_array"
      ],
      "metadata": {
        "colab": {
          "base_uri": "https://localhost:8080/"
        },
        "id": "psancvfVJ75A",
        "outputId": "086154de-d1a4-41ac-fb62-5e9e0cbe353a"
      },
      "execution_count": null,
      "outputs": [
        {
          "output_type": "stream",
          "name": "stdout",
          "text": [
            "First Tensor: tensor([1, 2, 3, 4, 5])\n",
            "Tuble Tensor: tensor([5, 6, 7, 8, 9, 0])\n"
          ]
        },
        {
          "output_type": "execute_result",
          "data": {
            "text/plain": [
              "tensor([11, 12, 13, 14, 15])"
            ]
          },
          "metadata": {},
          "execution_count": 1
        }
      ]
    },
    {
      "cell_type": "code",
      "source": [
        "#Practice torch.empty, torch.one, torch.zero\n",
        "\n",
        "empty_tensor=torch.empty(3,4)\n",
        "print('empty_tensor:',empty_tensor)\n",
        "\n",
        "one_tensor=torch.ones(3,4)\n",
        "print('One_tensor:', one_tensor)\n",
        "\n",
        "zero_tensor=torch.zeros(3,4)\n",
        "print('Zero tensor:',zero_tensor)\n"
      ],
      "metadata": {
        "colab": {
          "base_uri": "https://localhost:8080/"
        },
        "id": "I2Q9XUznJ714",
        "outputId": "0028cee9-0d1b-4246-b3b7-b9ee2eca50a3"
      },
      "execution_count": null,
      "outputs": [
        {
          "output_type": "stream",
          "name": "stdout",
          "text": [
            "empty_tensor: tensor([[0.0000e+00, 0.0000e+00, 0.0000e+00, 0.0000e+00],\n",
            "        [0.0000e+00, 0.0000e+00, 0.0000e+00, 0.0000e+00],\n",
            "        [1.4013e-45, 0.0000e+00, 0.0000e+00, 0.0000e+00]])\n",
            "One_tensor: tensor([[1., 1., 1., 1.],\n",
            "        [1., 1., 1., 1.],\n",
            "        [1., 1., 1., 1.]])\n",
            "Zero tensor: tensor([[0., 0., 0., 0.],\n",
            "        [0., 0., 0., 0.],\n",
            "        [0., 0., 0., 0.]])\n"
          ]
        }
      ]
    },
    {
      "cell_type": "code",
      "source": [
        "\n",
        "first_tensor=torch.rand(3,4)\n",
        "\n",
        "print('First Tensor:', first_tensor)\n",
        "\n",
        "second_tensor=torch.randn(3,4)\n",
        "\n",
        "print('Second Tensor:',second_tensor)\n",
        "\n",
        "third_tensor=torch.randint(5,30,(3,4))\n",
        "print('Third tensor:',third_tensor)"
      ],
      "metadata": {
        "colab": {
          "base_uri": "https://localhost:8080/"
        },
        "id": "5W8X1T_SJ7rV",
        "outputId": "77612061-fded-48c2-f9a7-a7e5d4849fcb"
      },
      "execution_count": null,
      "outputs": [
        {
          "output_type": "stream",
          "name": "stdout",
          "text": [
            "First Tensor: tensor([[0.1358, 0.6168, 0.0987, 0.3678],\n",
            "        [0.1181, 0.9442, 0.4116, 0.9849],\n",
            "        [0.9826, 0.1287, 0.9857, 0.1848]])\n",
            "Second Tensor: tensor([[-0.1527,  0.7351,  0.6345, -1.1348],\n",
            "        [ 0.5021,  1.5000,  1.4382,  2.0083],\n",
            "        [-1.6319, -0.8848, -3.2420,  0.0226]])\n",
            "Third tensor: tensor([[27, 18, 27, 27],\n",
            "        [21, 29,  7, 16],\n",
            "        [19,  9, 16, 25]])\n"
          ]
        }
      ]
    },
    {
      "cell_type": "code",
      "source": [
        "import torch\n",
        "onelike_tesor=torch.ones_like(third_tensor)\n",
        "onelike_tesor"
      ],
      "metadata": {
        "colab": {
          "base_uri": "https://localhost:8080/"
        },
        "id": "l40J7ONCF5qQ",
        "outputId": "1c4a4cfc-a78a-4b93-d1c0-2cfa5e6946da"
      },
      "execution_count": null,
      "outputs": [
        {
          "output_type": "execute_result",
          "data": {
            "text/plain": [
              "tensor([[1, 1, 1, 1],\n",
              "        [1, 1, 1, 1],\n",
              "        [1, 1, 1, 1]])"
            ]
          },
          "metadata": {},
          "execution_count": 5
        }
      ]
    },
    {
      "cell_type": "code",
      "source": [
        "### Exercise 2 dimensional tensor from paython list\n",
        "python_list=[[1,2,3,4],[5,6,7,8]]\n",
        "tensor_from_array=torch.tensor(python_list)\n",
        "print(\"tensor_from_array:\",tensor_from_array)\n",
        "\n",
        "###Excercise 2 dimensional tensor from numpy array\n",
        "\n",
        "import numpy as np\n",
        "\n",
        "numpy_array=np.array([[1,2,3,4],[5,6,7,8]])\n",
        "\n",
        "tensor_from_numpy_array= torch.tensor(numpy_array)\n",
        "print(\"tensor_from_numpy_array:\", tensor_from_numpy_array)\n"
      ],
      "metadata": {
        "colab": {
          "base_uri": "https://localhost:8080/"
        },
        "id": "eRWJJgzVF5oC",
        "outputId": "c8c3cd56-2ffb-4205-d09d-ed766a2fa323"
      },
      "execution_count": null,
      "outputs": [
        {
          "output_type": "stream",
          "name": "stdout",
          "text": [
            "tensor_from_array: tensor([[1, 2, 3, 4],\n",
            "        [5, 6, 7, 8]])\n",
            "tensor_from_numpy_array: tensor([[1, 2, 3, 4],\n",
            "        [5, 6, 7, 8]])\n"
          ]
        }
      ]
    },
    {
      "cell_type": "code",
      "source": [
        "def create_tensor_ones(rows,columns):\n",
        "    # Your code goes here\n",
        "    tensor_ones=torch.ones(rows,columns)\n",
        "    return tensor_ones\n",
        "\n"
      ],
      "metadata": {
        "id": "WsiHJn_HF5j6"
      },
      "execution_count": null,
      "outputs": []
    },
    {
      "cell_type": "code",
      "source": [
        "  new_one_tensor=create_tensor_ones(3,4)\n",
        "  print(new_one_tensor)"
      ],
      "metadata": {
        "colab": {
          "base_uri": "https://localhost:8080/"
        },
        "id": "FFgvmEntXi81",
        "outputId": "189198d5-4fc6-433f-af96-f8bc59b0bf07"
      },
      "execution_count": null,
      "outputs": [
        {
          "output_type": "stream",
          "name": "stdout",
          "text": [
            "tensor([[1., 1., 1., 1.],\n",
            "        [1., 1., 1., 1.],\n",
            "        [1., 1., 1., 1.]])\n"
          ]
        }
      ]
    },
    {
      "cell_type": "code",
      "source": [
        "#Create tensor of shape 4x5 and fill data with value of 5\n",
        "def create_customize_tensor(rows,columns,value):\n",
        "  tensor_customize=torch.full((rows,columns),value)\n",
        "\n",
        "  return tensor_customize\n"
      ],
      "metadata": {
        "id": "BVga_UOHXi4i"
      },
      "execution_count": null,
      "outputs": []
    },
    {
      "cell_type": "code",
      "source": [
        "  customize_tensor=create_customize_tensor(3,4,5)\n",
        "  print(customize_tensor)\n",
        "  torch.full"
      ],
      "metadata": {
        "colab": {
          "base_uri": "https://localhost:8080/"
        },
        "id": "tygFoFepXi0h",
        "outputId": "1fb470e4-5aaa-4e5f-d7f3-7aaa1ff3ab7e"
      },
      "execution_count": null,
      "outputs": [
        {
          "output_type": "stream",
          "name": "stdout",
          "text": [
            "tensor([[5, 5, 5, 5],\n",
            "        [5, 5, 5, 5],\n",
            "        [5, 5, 5, 5]])\n"
          ]
        },
        {
          "output_type": "execute_result",
          "data": {
            "text/plain": [
              "<function torch._VariableFunctionsClass.full>"
            ]
          },
          "metadata": {},
          "execution_count": 23
        }
      ]
    },
    {
      "cell_type": "code",
      "source": [
        "import torch\n",
        "\n",
        "chapter4_tensor=torch.tensor([1,2,3,4,15,6,7,8])\n",
        "print(chapter4_tensor)\n",
        "print('4th Item:',chapter4_tensor[4])\n",
        "print('4th Element value:',chapter4_tensor[4].item())\n",
        "\n",
        "print('SubElements:',chapter4_tensor[2:6])"
      ],
      "metadata": {
        "colab": {
          "base_uri": "https://localhost:8080/"
        },
        "id": "6nNDGg7_Xitc",
        "outputId": "bac452cf-af81-48aa-8424-8c259df4c9e8"
      },
      "execution_count": null,
      "outputs": [
        {
          "output_type": "stream",
          "name": "stdout",
          "text": [
            "tensor([ 1,  2,  3,  4, 15,  6,  7,  8])\n",
            "4th Item: tensor(15)\n",
            "4th Element value: 15\n",
            "SubElements: tensor([ 3,  4, 15,  6])\n"
          ]
        }
      ]
    },
    {
      "cell_type": "code",
      "source": [
        "two_dimension_tensor=torch.tensor([[1,2,3,4,5,6],[11,12,13,14,15,16],[21,22,23,24,25,26],[31,32,33,34,35,36]])\n",
        "two_dimension_tensor[0][2]"
      ],
      "metadata": {
        "colab": {
          "base_uri": "https://localhost:8080/"
        },
        "id": "TwvvyS8LZQ04",
        "outputId": "fc8d11a1-813c-4ee8-f1f7-ea851d0b543f"
      },
      "execution_count": null,
      "outputs": [
        {
          "output_type": "execute_result",
          "data": {
            "text/plain": [
              "tensor(3)"
            ]
          },
          "metadata": {},
          "execution_count": 9
        }
      ]
    },
    {
      "cell_type": "code",
      "source": [
        "print(two_dimension_tensor[0,2:4])\n",
        "print(two_dimension_tensor[1,2:4])"
      ],
      "metadata": {
        "colab": {
          "base_uri": "https://localhost:8080/"
        },
        "id": "_Hx6sT-TZQxV",
        "outputId": "42110a00-1ac6-4900-e7af-096e28e844c7"
      },
      "execution_count": null,
      "outputs": [
        {
          "output_type": "stream",
          "name": "stdout",
          "text": [
            "tensor([3, 4])\n",
            "tensor([13, 14])\n"
          ]
        }
      ]
    },
    {
      "cell_type": "code",
      "source": [
        "two_dimension_tensor[two_dimension_tensor <=4]"
      ],
      "metadata": {
        "colab": {
          "base_uri": "https://localhost:8080/"
        },
        "id": "jPesH4AXZQuq",
        "outputId": "1f10b101-2701-4682-aa23-4eaefb14c73f"
      },
      "execution_count": null,
      "outputs": [
        {
          "output_type": "execute_result",
          "data": {
            "text/plain": [
              "tensor([1, 2, 3, 4])"
            ]
          },
          "metadata": {},
          "execution_count": 28
        }
      ]
    },
    {
      "cell_type": "code",
      "source": [
        "import torch\n",
        "\n",
        "torch.stack((two_dimension_tensor,two_dimension_tensor))\n",
        "two_dimension_tensor"
      ],
      "metadata": {
        "colab": {
          "base_uri": "https://localhost:8080/"
        },
        "id": "-gfcsZPsZQrL",
        "outputId": "fc1a1aa5-cbee-420f-b161-133dee29c7b6"
      },
      "execution_count": null,
      "outputs": [
        {
          "output_type": "execute_result",
          "data": {
            "text/plain": [
              "tensor([[ 1,  2,  3,  4,  5,  6],\n",
              "        [11, 12, 13, 14, 15, 16]])"
            ]
          },
          "metadata": {},
          "execution_count": 33
        }
      ]
    },
    {
      "cell_type": "code",
      "source": [
        "import torch\n",
        "first_tensor,second_tensor,third_tensor,forth_tensor=torch.unbind(two_dimension_tensor)\n",
        "first_tensor,second_tensor,third_tensor,forth_tensor"
      ],
      "metadata": {
        "colab": {
          "base_uri": "https://localhost:8080/"
        },
        "id": "wclczZNZZQh1",
        "outputId": "f2075773-b3ef-449a-c347-32fa1b45c792"
      },
      "execution_count": null,
      "outputs": [
        {
          "output_type": "execute_result",
          "data": {
            "text/plain": [
              "(tensor([1, 2, 3, 4, 5, 6]),\n",
              " tensor([11, 12, 13, 14, 15, 16]),\n",
              " tensor([21, 22, 23, 24, 25, 26]),\n",
              " tensor([31, 32, 33, 34, 35, 36]))"
            ]
          },
          "metadata": {},
          "execution_count": 10
        }
      ]
    },
    {
      "cell_type": "code",
      "source": [
        "import torch\n",
        "a=torch.tensor([1,2,3,4,5])\n",
        "b=torch.tensor([11,12,13,14,15])\n",
        "c=a.add(b)\n",
        "print('Add-Output:',c)\n",
        "d=a.min(b)\n",
        "print('Min-Output:',d)\n",
        "d1=a.max(b)\n",
        "print('Max-Output:',d1)\n",
        "e=a.mul(b)\n",
        "print('Multiply-Output:',e)"
      ],
      "metadata": {
        "colab": {
          "base_uri": "https://localhost:8080/"
        },
        "id": "fFDAB2m6Xij2",
        "outputId": "1f503d98-b827-4d6f-91df-c0fe1bcfbd48"
      },
      "execution_count": null,
      "outputs": [
        {
          "output_type": "stream",
          "name": "stdout",
          "text": [
            "Add-Output: tensor([12, 14, 16, 18, 20])\n",
            "Min-Output: tensor([1, 2, 3, 4, 5])\n",
            "Max-Output: tensor([11, 12, 13, 14, 15])\n",
            "Multiply-Output: tensor([11, 24, 39, 56, 75])\n"
          ]
        }
      ]
    },
    {
      "cell_type": "code",
      "source": [
        "#Reduction Functions\n",
        "#Mean , median,mode , average , std\n",
        "\n",
        "a=torch.tensor([1.,2.,3.,4.,5.,6.,7.,8.,9.])\n",
        "\n",
        "meanVal=a.mean()\n",
        "print('Mean Val:',meanVal)\n",
        "\n",
        "median=a.median()\n",
        "print('Median Val:',median)\n",
        "\n",
        "mode=a.mode()\n",
        "print('Mode:',mode)"
      ],
      "metadata": {
        "colab": {
          "base_uri": "https://localhost:8080/"
        },
        "id": "DMW2f3vYLYOp",
        "outputId": "1244d580-d856-479d-c86b-21b874088f2a"
      },
      "execution_count": null,
      "outputs": [
        {
          "output_type": "stream",
          "name": "stdout",
          "text": [
            "Mean Val: tensor(5.)\n",
            "Median Val: tensor(5.)\n",
            "Mode: torch.return_types.mode(\n",
            "values=tensor(1.),\n",
            "indices=tensor(0))\n"
          ]
        }
      ]
    },
    {
      "cell_type": "code",
      "source": [
        "import torch\n",
        "\n",
        "matrix1=torch.tensor([1,2,3,4,5,6,7])\n",
        "matrix2=torch.tensor([11,12,13,14,15,16,17])\n",
        "\n",
        "resultMatrix=torch.matmul(matrix1,matrix2);\n",
        "print(resultMatrix)"
      ],
      "metadata": {
        "id": "corcZ7haLYLf",
        "colab": {
          "base_uri": "https://localhost:8080/"
        },
        "outputId": "4377ea77-f872-4e54-e250-c8a7d11a92ed"
      },
      "execution_count": 3,
      "outputs": [
        {
          "output_type": "stream",
          "name": "stdout",
          "text": [
            "tensor(420)\n"
          ]
        }
      ]
    },
    {
      "cell_type": "code",
      "source": [
        "import torch\n",
        "\n",
        "matrix1=torch.tensor([[1,2,3],[-1,-2,-3]])\n",
        "matrix2=torch.tensor([[11,12],[-11,-12],[22,32]])\n",
        "\n",
        "resultMatrix=torch.matmul(matrix1,matrix2);\n",
        "print(resultMatrix)"
      ],
      "metadata": {
        "id": "AUUaLc53LYIa",
        "colab": {
          "base_uri": "https://localhost:8080/"
        },
        "outputId": "96d0cf31-e640-4ab1-e96e-957d9875ebbe"
      },
      "execution_count": 7,
      "outputs": [
        {
          "output_type": "stream",
          "name": "stdout",
          "text": [
            "tensor([[ 55,  84],\n",
            "        [-55, -84]])\n"
          ]
        }
      ]
    },
    {
      "cell_type": "code",
      "source": [
        "import torch\n",
        "\n",
        "matrix1=torch.randn(2,3)\n",
        "matrix2=torch.randn(3,4)\n",
        "matrix3=torch.randn(4,5)\n",
        "matrix4=torch.randn(5,6)\n",
        "\n",
        "resultMatrix=torch.linalg.multi_dot([matrix1,matrix2,matrix3,matrix4])\n",
        "print(resultMatrix)"
      ],
      "metadata": {
        "id": "cZJpm4s2LYF0",
        "colab": {
          "base_uri": "https://localhost:8080/"
        },
        "outputId": "768895f4-d642-4a43-9be0-f0949e2f44e4"
      },
      "execution_count": 8,
      "outputs": [
        {
          "output_type": "stream",
          "name": "stdout",
          "text": [
            "tensor([[  0.6390,   4.3741,   0.6536,  -1.3411,   1.5425,  -0.6177],\n",
            "        [ -1.2060,  -7.5110,  -0.5975,   5.3018, -13.0238,   4.9166]])\n"
          ]
        }
      ]
    },
    {
      "cell_type": "code",
      "source": [
        "#Print Egan values\n",
        "import torch\n",
        "\n",
        "matrix1=torch.randn(3,3)\n",
        "\n",
        "resultMatrix=torch.linalg.eig(matrix1)\n",
        "\n",
        "print(resultMatrix)\n"
      ],
      "metadata": {
        "id": "XIf2Dvw1LYDO",
        "colab": {
          "base_uri": "https://localhost:8080/"
        },
        "outputId": "ba43d06e-6866-4032-d2c7-37ba5cd094be"
      },
      "execution_count": 9,
      "outputs": [
        {
          "output_type": "stream",
          "name": "stdout",
          "text": [
            "torch.return_types.linalg_eig(\n",
            "eigenvalues=tensor([-0.0102+1.6092j, -0.0102-1.6092j,  0.0461+0.0000j]),\n",
            "eigenvectors=tensor([[ 0.2536+0.5619j,  0.2536-0.5619j, -0.2737+0.0000j],\n",
            "        [ 0.3382+0.1537j,  0.3382-0.1537j,  0.5884+0.0000j],\n",
            "        [-0.6943+0.0000j, -0.6943-0.0000j,  0.7608+0.0000j]]))\n"
          ]
        }
      ]
    },
    {
      "cell_type": "code",
      "source": [],
      "metadata": {
        "id": "J5MX_VxuLX-Z"
      },
      "execution_count": null,
      "outputs": []
    },
    {
      "cell_type": "code",
      "source": [],
      "metadata": {
        "id": "psQDPvWjLXx4"
      },
      "execution_count": null,
      "outputs": []
    },
    {
      "cell_type": "code",
      "source": [],
      "metadata": {
        "colab": {
          "base_uri": "https://localhost:8080/"
        },
        "id": "ZeS5q0JcF5X6",
        "outputId": "ddaee68d-53e2-4290-9507-77c81f6ecf98"
      },
      "execution_count": null,
      "outputs": [
        {
          "output_type": "stream",
          "name": "stdout",
          "text": [
            "tensor([[1., 1., 1., 1.],\n",
            "        [1., 1., 1., 1.],\n",
            "        [1., 1., 1., 1.]])\n"
          ]
        }
      ]
    }
  ]
}