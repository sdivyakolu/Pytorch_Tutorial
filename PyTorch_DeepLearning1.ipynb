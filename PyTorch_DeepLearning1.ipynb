{
  "nbformat": 4,
  "nbformat_minor": 0,
  "metadata": {
    "colab": {
      "provenance": [],
      "gpuType": "T4",
      "authorship_tag": "ABX9TyNePV0FmTikQchgQudh8tnU",
      "include_colab_link": true
    },
    "kernelspec": {
      "name": "python3",
      "display_name": "Python 3"
    },
    "language_info": {
      "name": "python"
    },
    "accelerator": "GPU"
  },
  "cells": [
    {
      "cell_type": "markdown",
      "metadata": {
        "id": "view-in-github",
        "colab_type": "text"
      },
      "source": [
        "<a href=\"https://colab.research.google.com/github/sdivyakolu/Pytorch_Tutorial/blob/main/PyTorch_DeepLearning1.ipynb\" target=\"_parent\"><img src=\"https://colab.research.google.com/assets/colab-badge.svg\" alt=\"Open In Colab\"/></a>"
      ]
    },
    {
      "cell_type": "code",
      "execution_count": 1,
      "metadata": {
        "id": "YTk99W3A97uQ"
      },
      "outputs": [],
      "source": [
        "show_expected_result=True\n",
        "show_hints=True\n",
        "\n",
        "def find_latest(numbers):\n",
        "  return max(numbers)\n"
      ]
    },
    {
      "cell_type": "code",
      "source": [
        "my_numbers=[4,-5,8,10,34]\n",
        "result=find_latest(my_numbers)\n",
        "result"
      ],
      "metadata": {
        "colab": {
          "base_uri": "https://localhost:8080/"
        },
        "id": "qYOYcEa2F5wR",
        "outputId": "9001f024-e263-4cd5-8f95-6245dbd80aaa"
      },
      "execution_count": 2,
      "outputs": [
        {
          "output_type": "execute_result",
          "data": {
            "text/plain": [
              "34"
            ]
          },
          "metadata": {},
          "execution_count": 2
        }
      ]
    },
    {
      "cell_type": "code",
      "source": [
        "import torch\n",
        "\n",
        "print(torch.__version__)\n",
        "print(torch.cuda.is_available())\n",
        "\n"
      ],
      "metadata": {
        "colab": {
          "base_uri": "https://localhost:8080/"
        },
        "id": "nBIfv2IVF5tD",
        "outputId": "6df85b34-4820-459f-f1a7-61e38efdbf1e"
      },
      "execution_count": 5,
      "outputs": [
        {
          "output_type": "stream",
          "name": "stdout",
          "text": [
            "2.6.0+cu124\n",
            "True\n"
          ]
        }
      ]
    },
    {
      "cell_type": "code",
      "source": [
        "import torch\n",
        "\n",
        "first_tensor=torch.tensor([[1,2,3,4],[5,6,7,8]])\n",
        "second_tensor=torch.tensor([[11,12,13,14],[15,16,17,18]])\n",
        "third_tensor=first_tensor+second_tensor\n",
        "print(third_tensor)\n",
        "print('Result Tensor Size:',third_tensor.size())\n",
        "\n",
        "#Subtract tensor\n",
        "\n",
        "subtract_tensor=first_tensor-second_tensor\n",
        "print(subtract_tensor)\n",
        "print('Subtract Result Tensor Size:',subtract_tensor.size())"
      ],
      "metadata": {
        "colab": {
          "base_uri": "https://localhost:8080/"
        },
        "id": "EWnhoJPjJ8Cb",
        "outputId": "fe2174e3-5b48-450e-b0c9-cd81db63e41a"
      },
      "execution_count": 9,
      "outputs": [
        {
          "output_type": "stream",
          "name": "stdout",
          "text": [
            "tensor([[12, 14, 16, 18],\n",
            "        [20, 22, 24, 26]])\n",
            "Result Tensor Size: torch.Size([2, 4])\n",
            "tensor([[-10, -10, -10, -10],\n",
            "        [-10, -10, -10, -10]])\n",
            "Subtract Result Tensor Size: torch.Size([2, 4])\n"
          ]
        }
      ]
    },
    {
      "cell_type": "code",
      "source": [],
      "metadata": {
        "id": "kvZAx3ODJ7-f"
      },
      "execution_count": null,
      "outputs": []
    },
    {
      "cell_type": "code",
      "source": [],
      "metadata": {
        "id": "duFeULdiJ77v"
      },
      "execution_count": null,
      "outputs": []
    },
    {
      "cell_type": "code",
      "source": [],
      "metadata": {
        "id": "psancvfVJ75A"
      },
      "execution_count": null,
      "outputs": []
    },
    {
      "cell_type": "code",
      "source": [],
      "metadata": {
        "id": "I2Q9XUznJ714"
      },
      "execution_count": null,
      "outputs": []
    },
    {
      "cell_type": "code",
      "source": [],
      "metadata": {
        "id": "5W8X1T_SJ7rV"
      },
      "execution_count": null,
      "outputs": []
    },
    {
      "cell_type": "code",
      "source": [],
      "metadata": {
        "id": "l40J7ONCF5qQ"
      },
      "execution_count": null,
      "outputs": []
    },
    {
      "cell_type": "code",
      "source": [],
      "metadata": {
        "id": "eRWJJgzVF5oC"
      },
      "execution_count": null,
      "outputs": []
    },
    {
      "cell_type": "code",
      "source": [],
      "metadata": {
        "id": "WsiHJn_HF5j6"
      },
      "execution_count": null,
      "outputs": []
    },
    {
      "cell_type": "code",
      "source": [],
      "metadata": {
        "id": "ZeS5q0JcF5X6"
      },
      "execution_count": null,
      "outputs": []
    }
  ]
}