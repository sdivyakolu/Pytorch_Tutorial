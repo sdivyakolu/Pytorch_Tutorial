{
  "nbformat": 4,
  "nbformat_minor": 0,
  "metadata": {
    "colab": {
      "provenance": [],
      "gpuType": "T4",
      "authorship_tag": "ABX9TyNN/rBwHyp4oRyNMRruQo/c",
      "include_colab_link": true
    },
    "kernelspec": {
      "name": "python3",
      "display_name": "Python 3"
    },
    "language_info": {
      "name": "python"
    },
    "accelerator": "GPU"
  },
  "cells": [
    {
      "cell_type": "markdown",
      "metadata": {
        "id": "view-in-github",
        "colab_type": "text"
      },
      "source": [
        "<a href=\"https://colab.research.google.com/github/sdivyakolu/Pytorch_Tutorial/blob/main/PyTorch_DeepLearning_FullModelTraining_Validation.ipynb\" target=\"_parent\"><img src=\"https://colab.research.google.com/assets/colab-badge.svg\" alt=\"Open In Colab\"/></a>"
      ]
    },
    {
      "cell_type": "code",
      "execution_count": 1,
      "metadata": {
        "id": "AGeyvm3kwi9u"
      },
      "outputs": [],
      "source": [
        "#Model Development Traning ( SOLUTIONING THE PROBLEM : Most important step)\n",
        "\n",
        "import torch\n",
        "import torch.nn as nn\n",
        "import torch.nn.functional as F\n",
        "import torchvision.datasets as CIFAR10\n",
        "import torchvision.transforms as transforms\n",
        "import torchvision.models as models\n",
        "from torch.utils.data import dataloader\n",
        "from torch.utils.data import random_split\n",
        "\n",
        "from torch import optim\n",
        "import torch.optim as optim\n",
        "\n",
        "import matplotlib.pyplot as plt"
      ]
    },
    {
      "cell_type": "code",
      "source": [
        "#Define neural network , __init__ and forward functions.\n",
        "\n",
        "import torch.nn as nn\n",
        "import torch.nn.functional as F\n",
        "\n",
        "class Net(nn.Module):\n",
        "  def __init__(self):\n",
        "    super(Net,self).__init__()\n",
        "    self.conv1=nn.Conv2d(3,6, 5)\n",
        "    self.pool=nn.MaxPool2d(2,2)\n",
        "    self.conv2=nn.Conv2d(6,16,5)\n",
        "    self.fc1=nn.Linear(16*5*5,120)\n",
        "    self.fc2=nn.Linear(120,84)\n",
        "    self.fc3=nn.Linear(84,10)\n",
        "\n",
        "  def forward(self,x):\n",
        "    x=self.pool(F.relu(self.conv1(x)))\n",
        "    x=self.pool(F.relu(self.conv2(x)))\n",
        "    x=x.view(-1,16*5*5)\n",
        "    x=F.relu(self.fc1(x))\n",
        "    x=F.relu(self.fc2(x))\n",
        "    x=self.fc3(x)\n",
        "    return x"
      ],
      "metadata": {
        "id": "bJ5ByGGxwtYU"
      },
      "execution_count": 2,
      "outputs": []
    },
    {
      "cell_type": "code",
      "source": [
        "#Create model class and initiate it\n",
        "net=Net()\n",
        "print(net)\n",
        "\n",
        "#Define loss function and Optimizer\n",
        "criterion=nn.CrossEntropyLoss()\n",
        "optimizer=optim.SGD(net.parameters(),lr=0.001,momentum=0.9)"
      ],
      "metadata": {
        "colab": {
          "base_uri": "https://localhost:8080/"
        },
        "id": "96Yr_RXvwtVJ",
        "outputId": "959089c0-f9a7-4f5f-9abb-975d76a9af45"
      },
      "execution_count": 3,
      "outputs": [
        {
          "output_type": "stream",
          "name": "stdout",
          "text": [
            "Net(\n",
            "  (conv1): Conv2d(3, 6, kernel_size=(5, 5), stride=(1, 1))\n",
            "  (pool): MaxPool2d(kernel_size=2, stride=2, padding=0, dilation=1, ceil_mode=False)\n",
            "  (conv2): Conv2d(6, 16, kernel_size=(5, 5), stride=(1, 1))\n",
            "  (fc1): Linear(in_features=400, out_features=120, bias=True)\n",
            "  (fc2): Linear(in_features=120, out_features=84, bias=True)\n",
            "  (fc3): Linear(in_features=84, out_features=10, bias=True)\n",
            ")\n"
          ]
        }
      ]
    },
    {
      "cell_type": "code",
      "source": [
        " #Load and trasnform the data\n",
        "\n",
        "transform=transforms.Compose([transforms.ToTensor(),transforms.Normalize(std=(0.5,0.5,0.5),\n",
        "                                                                    mean=(0.5,0.5,0.5))])\n",
        "\n",
        "train_trasforms=transforms.Compose([transforms.RandomCrop(32,padding=4),\n",
        "                                    transforms.RandomHorizontalFlip(),\n",
        "                                    transforms.transforms.ToTensor(),\n",
        "                                    transforms.Normalize(mean=(0.4914,0.4822,0.4465),\n",
        "                                                         std=(0.2023,0.1994,0.2010))])\n",
        "batch_size=8\n",
        "\n",
        "train_data=CIFAR10.CIFAR10(root='./train',train=True,download=True,transform=train_trasforms)\n",
        "train_set, validation_set=random_split(train_data,[40000,10000])\n",
        "\n",
        "trainloader=torch.utils.data.DataLoader(train_set,batch_size=batch_size,shuffle=True,num_workers=2)\n",
        "\n",
        "validation_loader=torch.utils.data.DataLoader(validation_set,batch_size=batch_size,shuffle=True,num_workers=2)\n",
        "\n",
        "\n",
        "testset=CIFAR10.CIFAR10(root='./data',train=False,download=True,transform=transform)\n",
        "testloader=torch.utils.data.DataLoader(testset,batch_size=batch_size,shuffle=False,num_workers=2)"
      ],
      "metadata": {
        "colab": {
          "base_uri": "https://localhost:8080/"
        },
        "id": "DXwI3b_QwtQz",
        "outputId": "82149a09-2d1b-4116-9ba5-d1c93f97d124"
      },
      "execution_count": 4,
      "outputs": [
        {
          "output_type": "stream",
          "name": "stderr",
          "text": [
            "100%|██████████| 170M/170M [00:13<00:00, 13.1MB/s]\n",
            "100%|██████████| 170M/170M [00:18<00:00, 9.15MB/s]\n"
          ]
        }
      ]
    },
    {
      "cell_type": "code",
      "source": [
        "#Train the network/Model\n",
        "epochs=10\n",
        "for epoch in range(epochs):\n",
        "  net.train() #set the model to training mode\n",
        "  running_loss=0.0\n",
        "  for i,data in enumerate(trainloader,0):\n",
        "\n",
        "    #get the inputs, data is a triple of [inputs,labels]\n",
        "    inputs,labels=data\n",
        "\n",
        "    #zero the parameter gradiant\n",
        "    optimizer.zero_grad()\n",
        "\n",
        "    #farward + backward = optimize\n",
        "    outputs=net(inputs)\n",
        "    loss=criterion(outputs,labels)\n",
        "    loss.backward()\n",
        "    optimizer.step()\n",
        "\n",
        "    #Print Statstics\n",
        "    running_loss+=loss.item()\n",
        "    net.eval()  #set the model to evaluation mode for validation\n",
        "    validation_loss=0.0\n",
        "    correct=0\n",
        "    total=0\n",
        "    with torch.no_grad():\n",
        "        for data in testloader:\n",
        "          images,labels=data\n",
        "          outputs=net(images)\n",
        "          loss=criterion(outputs,labels)\n",
        "          validation_loss +=loss.item()\n",
        "          _,predicted=torch.max(outputs.data,1)\n",
        "          total+=labels.size(0)\n",
        "          correct += ( predicted==labels).sum().item()\n",
        "  print('epoch:,{epoch+1},,training_loss:,{ running_loss/len(trainloader)) }, validation_loss:,{validation_loss/len(validation_loader)} ,accuracy:,{100*correct/total}%')\n",
        "print('Fininsh Traning')"
      ],
      "metadata": {
        "id": "GAeYRZcIwtNr"
      },
      "execution_count": null,
      "outputs": []
    },
    {
      "cell_type": "code",
      "source": [],
      "metadata": {
        "id": "I9XJ9qKcwtLd"
      },
      "execution_count": null,
      "outputs": []
    },
    {
      "cell_type": "code",
      "source": [],
      "metadata": {
        "id": "JRgOa_M3wtHc"
      },
      "execution_count": null,
      "outputs": []
    },
    {
      "cell_type": "code",
      "source": [],
      "metadata": {
        "id": "O3ZY2MgvwtDQ"
      },
      "execution_count": null,
      "outputs": []
    }
  ]
}