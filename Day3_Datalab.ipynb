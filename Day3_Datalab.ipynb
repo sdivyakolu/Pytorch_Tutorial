{
  "nbformat": 4,
  "nbformat_minor": 0,
  "metadata": {
    "colab": {
      "provenance": [],
      "authorship_tag": "ABX9TyP7A36qGFu5il/C0KJRzk8w",
      "include_colab_link": true
    },
    "kernelspec": {
      "name": "python3",
      "display_name": "Python 3"
    },
    "language_info": {
      "name": "python"
    }
  },
  "cells": [
    {
      "cell_type": "markdown",
      "metadata": {
        "id": "view-in-github",
        "colab_type": "text"
      },
      "source": [
        "<a href=\"https://colab.research.google.com/github/sdivyakolu/Pytorch_Tutorial/blob/main/Day3_Datalab.ipynb\" target=\"_parent\"><img src=\"https://colab.research.google.com/assets/colab-badge.svg\" alt=\"Open In Colab\"/></a>"
      ]
    },
    {
      "cell_type": "code",
      "execution_count": null,
      "metadata": {
        "id": "EsEiZMz4xnC1"
      },
      "outputs": [],
      "source": [
        "import numpy as np #Linear Algebra\n",
        "import pandas as pd #Data processing, CSV file I/O ( e.g: pd.read_csv)\n",
        "import torch\n",
        "import torch.nn as nn\n",
        "import torch.nn.functional as F\n",
        "import nltk.corpus import stopwords\n",
        "import collections import Counter\n",
        "import string\n",
        "import re\n",
        "import seaborn as sns\n",
        "import tqdm import tqdm\n",
        "import matplotlib.pyplot as plt\n",
        "import torch.utils.data import TensorDataset, DataLoader\n",
        "from sklearn.model_selection import train_test_split\n"
      ]
    }
  ]
}